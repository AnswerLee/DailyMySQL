{
 "cells": [
  {
   "cell_type": "markdown",
   "metadata": {},
   "source": [
    "**介绍MySQL的安装步骤**"
   ]
  },
  {
   "cell_type": "markdown",
   "metadata": {},
   "source": [
    "- 1.下载MySQL的免安装版本    \n",
    "    从以下链接下载[MySQL](https://dev.mysql.com/downloads/file/?id=473309)的免安装版本，不要被两个大的按钮迷惑，直接点击底下的\"No thanks,just start my download.\"进行下载。![download page](./url-download-mysql.jpg)"
   ]
  },
  {
   "cell_type": "markdown",
   "metadata": {},
   "source": [
    "- 2.解压缩   \n",
    "    下载完成后将mysql-5.7.20-winx64.zip压缩包拷贝到安装目录，并解压。例如C:\\Program Files\\mysql-5.7.20-winx64。解压后的文件夹中的文件如下图所示![folder](./folder.jpg)"
   ]
  },
  {
   "cell_type": "markdown",
   "metadata": {},
   "source": [
    "- 3.添加环境变量   \n",
    "    将安装目录下的bin文件夹路径添加到Path环境变量中"
   ]
  },
  {
   "cell_type": "markdown",
   "metadata": {},
   "source": [
    "- 4.生成data文件夹    \n",
    "    - 在bin目录下，shift+右键打开命令行窗口，输入mysqld install命令\n",
    "    - 执行mysqld --initialize-insecure 命令，生成data文件夹。"
   ]
  },
  {
   "cell_type": "markdown",
   "metadata": {},
   "source": [
    "- 5.my.ini文件   \n",
    "    在解压目录中新建my.ini文件，并在将如下内容写入文件中。![folder-init](./folder-init.jpg)"
   ]
  },
  {
   "cell_type": "code",
   "execution_count": null,
   "metadata": {
    "collapsed": true
   },
   "outputs": [],
   "source": [
    "# 设置客户端配置信息 \n",
    "[client] \n",
    "# 设置客户端端口号 \n",
    "port=3306 \n",
    "# 设置客户端默认字符集 \n",
    "default-character-set=utf8 \n",
    "# 设置服务器端配置信息 \n",
    "[mysqld] \n",
    "# 设置mysql的安装目录 \n",
    "basedir=C:\\Program Files\\mysql-5.7.20-winx64\\ \n",
    "# 设置mysql存放数据的目录 \n",
    "datadir=C:\\Program Files\\mysql-5.7.20-winx64\\data \n",
    "# 设置服务端端口号 \n",
    "port=3306 \n",
    "# 设置服务器默认字符集 \n",
    "character-set-server=utf8 \n",
    "# 允许最大连接数 \n",
    "max_connections=200 \n",
    "# 支持的sql语法,数据校验 \n",
    "sql_mode=NO_ENGINE_SUBSTITUTION,STRICT_TRANS_TABLES"
   ]
  },
  {
   "cell_type": "markdown",
   "metadata": {},
   "source": [
    "- 6.启动mysql服务    \n",
    "    在命令行(任意目录下)执行net start mysql 启动mysql。会显示： \n",
    "    MySQL服务正在启动.    \n",
    "    MySQL服务已经启动成功.    "
   ]
  },
  {
   "cell_type": "markdown",
   "metadata": {},
   "source": [
    "- 7.使用root用户登录    \n",
    "    在命令行(任意目录)执行 mysql -u root  登录成功会显示：    \n",
    "    Welcome to the MySQL monitor..."
   ]
  },
  {
   "cell_type": "markdown",
   "metadata": {},
   "source": [
    "- 8.修改root用户密码    \n",
    "    网上有的比较旧的帖子仍然在使用如下命令修改密码：    \n",
    "    update user set password='123456' where user='root'    \n",
    "    这个方法是行不通的，因为5.7.14+版本之后，user表中使用authentication_string替代了password，则修改密码命令如下：    \n",
    "    update user set authentication_string = password('123456') where user='root'"
   ]
  },
  {
   "cell_type": "markdown",
   "metadata": {},
   "source": [
    "- 9.使用密码登录mysql\n",
    "    输入以下命令 mysql -u root -p ,之后会弹出Enter password:  输入密码123456，即可完成登录。    \n",
    "    有的帖子输入mysql -u root -p 123456 来进行密码登录，会提示Unknown database '123456' ,-p 之后不是密码，而是数据库的名字，或者不写。之后再输入密码即可"
   ]
  },
  {
   "cell_type": "markdown",
   "metadata": {},
   "source": [
    "- 10.退出mysql命令行    \n",
    "    使用exit;  quit;  任意一个命令可以退出命令行"
   ]
  },
  {
   "cell_type": "markdown",
   "metadata": {},
   "source": [
    "- 11.停止mysql服务    \n",
    "    在命令行(任意目录)输入如下命令，停止mysql服务：    \n",
    "    net stop mysql "
   ]
  },
  {
   "cell_type": "markdown",
   "metadata": {
    "collapsed": true
   },
   "source": [
    "- 其他相关命令\n",
    "    use mysql   选择mysql数据库    \n",
    "    show tables   显示当前数据库的所有表\n",
    "    show columns from user 显示user表中的所有字段名   \n",
    "    select authentication_string from user where User='root' 查询user表中User字段为root的authentication_string字段   \n",
    "    mysqld --skip-grant-tables   跨过权限认证   \n",
    "    taskkill /f /im mysqld.exe 杀死mysqld进程   \n",
    "    mysql -h 主机名 -u 用户名 -p   登录格式 -h 表示登录的MySQL主机名，-u表示登录的用户名，-p 告诉服务器会使用一个密码来登录"
   ]
  },
  {
   "cell_type": "markdown",
   "metadata": {},
   "source": [
    "- 异常解决    \n",
    "    当执行 net start mysql命令时，有可能失败并出现如下log：   \n",
    "    发生系统错误 2。   \n",
    "    系统找不到指定的文件。      \n",
    "    此时需要修改注册表中的信息，win+r打开命令窗口，输入regedit，回车，打开注册表，按照如下路径找到MySQL：   \n",
    "    HKEY_LOCAL_MACHINE\\SYSTEM\\CurrentControlSet\\services\\MySQL \n",
    "    ImagePath修改为当前安装目录，保存。![regedit](./regedit.jpg)"
   ]
  }
 ],
 "metadata": {
  "kernelspec": {
   "display_name": "Python 3",
   "language": "python",
   "name": "python3"
  },
  "language_info": {
   "codemirror_mode": {
    "name": "ipython",
    "version": 3
   },
   "file_extension": ".py",
   "mimetype": "text/x-python",
   "name": "python",
   "nbconvert_exporter": "python",
   "pygments_lexer": "ipython3",
   "version": "3.6.1"
  }
 },
 "nbformat": 4,
 "nbformat_minor": 2
}
