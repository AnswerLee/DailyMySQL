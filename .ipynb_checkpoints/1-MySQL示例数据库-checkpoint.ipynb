{
 "cells": [
  {
   "cell_type": "markdown",
   "metadata": {},
   "source": [
    "学习MySQL语言的各种语句，需要对数据库中的表来操作，这里从网上找了一个数据库，可以将数据库导入，使用该数据库练习。路径是./database/answer.sql。"
   ]
  },
  {
   "cell_type": "markdown",
   "metadata": {},
   "source": [
    "**导入数据库**"
   ]
  },
  {
   "cell_type": "markdown",
   "metadata": {},
   "source": [
    "连接到MySQL服务器并创建数据库，执行以下命令：    \n",
    "mysql -h localhost -u root -p   \n",
    "输入密码后，连接成功    \n",
    "创建数据库    \n",
    "create table if not exists answer default charset utf8 collate utf8_general_ci;   \n",
    "切换到answer数据库    \n",
    "use answer  \n",
    "导入数据，answer数据库文件路径    \n",
    "source D:/worksp/answer.sql   \n",
    "导入后，测试是否成功    \n",
    "select city,phone,country from offices;  "
   ]
  },
  {
   "cell_type": "markdown",
   "metadata": {},
   "source": [
    "**当然也可以打开answer.sql，在MySQL命令行，将文件中的代码执行一遍，同样会完成导入数据库的操作。**"
   ]
  },
  {
   "cell_type": "code",
   "execution_count": null,
   "metadata": {
    "collapsed": true
   },
   "outputs": [],
   "source": []
  }
 ],
 "metadata": {
  "kernelspec": {
   "display_name": "Python 3",
   "language": "python",
   "name": "python3"
  },
  "language_info": {
   "codemirror_mode": {
    "name": "ipython",
    "version": 3
   },
   "file_extension": ".py",
   "mimetype": "text/x-python",
   "name": "python",
   "nbconvert_exporter": "python",
   "pygments_lexer": "ipython3",
   "version": "3.6.1"
  }
 },
 "nbformat": 4,
 "nbformat_minor": 2
}
