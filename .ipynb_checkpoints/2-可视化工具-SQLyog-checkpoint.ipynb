{
 "cells": [
  {
   "cell_type": "markdown",
   "metadata": {},
   "source": [
    "**SQLyog**"
   ]
  },
  {
   "cell_type": "markdown",
   "metadata": {},
   "source": [
    "SQLyog Community 是开源社区免费版，下载地址![SQLyog]()"
   ]
  },
  {
   "cell_type": "markdown",
   "metadata": {},
   "source": [
    "SQLyog Community （社区版）是一款免费的 MySQL/MariaDB 管理工具，可以远程管理 MySQL 数据库。![SQLyog-home](./SQLyog/SQLyog-home.jpg)"
   ]
  },
  {
   "cell_type": "markdown",
   "metadata": {},
   "source": [
    "SQLyog Community 是一款开源的软件，它的源码您可以访问 GitHub 查看，[webyog/sqlyog-community](https://github.com/webyog/sqlyog-community)       \n",
    "SQLyog Community 可以远程以图形化的方式管理 MySQL/MariaDB 服务。使用它，您可以一目了然的查看数据库中的库和表，点击几下鼠标即可实现对数据库表的设计，或者对数据的变更。也可以直接使用 SQL 语句对数据库进行查询或管理。输入host、用户名、面、端口等信息，点击连接即可。![sqlyog-mysql](./SQLyog/SQLyog-MySql.jpg)     \n",
    "因为 SQLyog 有收费版，这款开源版阉割了一些功能，仅支持通过直接连接 MySQL 服务端口的方式连接至 MySQL 服务。其收费版可以支持通过 HTTP/SSH 等通道连接。![sqlyog-ssh](./SQLyog/SQLyog-SSH.jpg) \n",
    "不过你可以配合使用远程端口映射工具 - 将远程服务器的端口通过SSH通道映射到本地，通过 SSH 通道管理远程的 MySQL 服务。   \n",
    "SQLyog下载地址如下[SQLyog download](https://github.com/webyog/sqlyog-community/wiki/Downloads)"
   ]
  },
  {
   "cell_type": "code",
   "execution_count": null,
   "metadata": {
    "collapsed": true
   },
   "outputs": [],
   "source": []
  }
 ],
 "metadata": {
  "kernelspec": {
   "display_name": "Python 3",
   "language": "python",
   "name": "python3"
  },
  "language_info": {
   "codemirror_mode": {
    "name": "ipython",
    "version": 3
   },
   "file_extension": ".py",
   "mimetype": "text/x-python",
   "name": "python",
   "nbconvert_exporter": "python",
   "pygments_lexer": "ipython3",
   "version": "3.6.1"
  }
 },
 "nbformat": 4,
 "nbformat_minor": 2
}
