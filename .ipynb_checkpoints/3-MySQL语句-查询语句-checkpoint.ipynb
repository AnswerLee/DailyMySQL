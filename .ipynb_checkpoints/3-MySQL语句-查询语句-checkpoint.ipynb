{
 "cells": [
  {
   "cell_type": "markdown",
   "metadata": {},
   "source": [
    "**sql语句大小写不敏感**"
   ]
  },
  {
   "cell_type": "markdown",
   "metadata": {},
   "source": [
    "使用select语句从表或视图获取数据，控制要查看哪些列和行。select语句的语法如下：   \n",
    "select   \n",
    "    column_1, column_2,...   \n",
    " from   \n",
    "     table_1   \n",
    " [inner | left | right] join table_2 on conditions   \n",
    " where   \n",
    "     conditions   \n",
    " group by column_1   \n",
    " having group_conditions   \n",
    " order by column_1   \n",
    " limit offset, length;"
   ]
  },
  {
   "cell_type": "markdown",
   "metadata": {},
   "source": [
    "select 语句中每个关键字的解释：   \n",
    "- select 之后是逗号分隔列或星号\\*的列表，表示要返回所有列。\n",
    "- from指定要查询数据的表或视图。\n",
    "- join根据某些连接条件从其他表中获取数据。\n",
    "- where过滤结果集中的行。\n",
    "- group by将一组行组合成小分组，并对每个小分组应用聚合函数。\n",
    "- having过滤器基于GROUP BY子句定义的小分组。\n",
    "- order by指定用于排序的列的列表。\n",
    "- limit限制返回行的数量。   \n",
    "语句中的SELECT和FROM语句是必须的，其他部分是可选的。"
   ]
  },
  {
   "cell_type": "markdown",
   "metadata": {},
   "source": [
    "SELECT 子句顺序：   \n",
    "**SELECT > FROM > WHERE > GROUP BY > HAVING > ORDER BY > LIMIT**"
   ]
  },
  {
   "cell_type": "markdown",
   "metadata": {},
   "source": [
    "**以answer数据库中的customers表为示例，练习select语句**"
   ]
  },
  {
   "cell_type": "markdown",
   "metadata": {},
   "source": [
    "查看customer的所有列   \n",
    "show columns from customers   \n",
    "![columns](./images/customers-columns.png)"
   ]
  },
  {
   "cell_type": "markdown",
   "metadata": {},
   "source": [
    "查看所有row   \n",
    "**select * from customers;**   \n",
    "查看customerNumber、phone、city三列   \n",
    "**select customerNumber,phone,city from customers;**   \n",
    "查看customerNumber大于200的客户信息   \n",
    "**select * from customers where customerNumber>200;**   \n",
    "查看所有客户信息，并按照country分组   \n",
    "**select * from customers group by country;**    \n",
    "查看按照country分组，过滤分组中customerNumber大于300的客户信息   \n",
    "**select * from customers group by country having customerNumber>300;**   \n",
    "查看country是Canada的客户，并且按照customerNumber排序，asc顺序，desc逆序。   \n",
    "**select * from customers where country='Canada' order by customerNumber asc;**   \n",
    "查看country是Spain的客户，并且按照City逆序，customerNumber顺序的排序显示。   \n",
    "**select * from customers where country='Spain' order by city desc, customerNumber asc;**   \n",
    "查看customers表中前三条客户信息    \n",
    "**select * from customers limit 3;**   \n",
    "查看customers表中6-15行记录   \n",
    "**select * from customers limit 5,10;**   "
   ]
  },
  {
   "cell_type": "markdown",
   "metadata": {},
   "source": [
    "**distinc子语句**"
   ]
  },
  {
   "cell_type": "markdown",
   "metadata": {},
   "source": [
    "从表中查询数据时，可能会收到重复的行记录。为了删除这些重复行，可以在SELECT语句中使用DISTINCT子句。"
   ]
  },
  {
   "cell_type": "markdown",
   "metadata": {},
   "source": [
    "select distinct   \n",
    "    columns   \n",
    "from   \n",
    "    table_name   \n",
    "where   \n",
    "    conditions   "
   ]
  },
  {
   "cell_type": "markdown",
   "metadata": {},
   "source": [
    "employees表的结构如下：![employees-columns](./images/employees-columns.png)"
   ]
  },
  {
   "cell_type": "markdown",
   "metadata": {},
   "source": [
    "使用select语句查询员工的姓氏(lastName)，不重复   \n",
    "**select distinct lastName from employees;**   "
   ]
  },
  {
   "cell_type": "markdown",
   "metadata": {},
   "source": [
    "如果列具有NULL值，并且对该列使用DISTINCT子句，MySQL将保留一个NULL值，并删除其它的NULL值，因为DISTINCT子句将所有NULL值视为相同的值。在customers表中，有很多行的州(state)是NULL值，使用DISTINCT子句来查询客户所在的州。    \n",
    "**SELECT DISTINCT state FROM customers;**   "
   ]
  },
  {
   "cell_type": "markdown",
   "metadata": {},
   "source": [
    "可以使用具有多个列的DISTINCT子句。在这种情况下，MySQL使用所有列的组合来确定结果集中行的唯一性。从customers表中查询城市(city)和州(state)的唯一组合。   \n",
    "**SELECT DISTINCT state,city FROM customers WHERE state IS NOT NULL ORDER BY state,city;**   "
   ]
  },
  {
   "cell_type": "markdown",
   "metadata": {},
   "source": [
    "一般而言，DISTINCT子句是GROUP BY子句的特殊情况。 DISTINCT子句和GROUP BY子句之间的区别是GROUP BY子句可对结果集进行排序，而DISTINCT子句不进行排序。   \n",
    "如果将ORDER BY子句添加到使用DISTINCT子句的语句中，则结果集将被排序，并且与使用GROUP BY子句的语句返回的结果集相同。   \n",
    "**SELECT DISTINCT state FROM customers ORDER BY state;**   \n",
    "**SELECT state FROM customers GROUP BY state;**"
   ]
  },
  {
   "cell_type": "markdown",
   "metadata": {},
   "source": [
    "可以使用具有聚合函数(例如SUM，AVG和COUNT)的DISTINCT子句中，在MySQL将聚合函数应用于结果集之前删除重复的行。    \n",
    "**SELECT COUNT(DISTINCT state) FROM customers WHERE country='USA';**"
   ]
  },
  {
   "cell_type": "markdown",
   "metadata": {},
   "source": [
    "如果要将DISTINCT子句与LIMIT子句一起使用，MySQL会在查找LIMIT子句中指定的唯一行数时立即停止搜索。   \n",
    "**SELECT DISTINCT state FROM customers WHERE country='USA' LIMIT 3;**"
   ]
  }
 ],
 "metadata": {
  "kernelspec": {
   "display_name": "Python 3",
   "language": "python",
   "name": "python3"
  },
  "language_info": {
   "codemirror_mode": {
    "name": "ipython",
    "version": 3
   },
   "file_extension": ".py",
   "mimetype": "text/x-python",
   "name": "python",
   "nbconvert_exporter": "python",
   "pygments_lexer": "ipython3",
   "version": "3.6.1"
  }
 },
 "nbformat": 4,
 "nbformat_minor": 2
}
