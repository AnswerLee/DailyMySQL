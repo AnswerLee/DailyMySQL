{
 "cells": [
  {
   "cell_type": "markdown",
   "metadata": {},
   "source": [
    "**MySQL别名**"
   ]
  },
  {
   "cell_type": "markdown",
   "metadata": {},
   "source": [
    "有时候列的名称是一个表达式，使得查询的输出很难理解。此时可以给出一个描述性名称，这个名称称作别名。    \n",
    "查询选择员工的名字、姓氏，并将其组合起来生成别名。如果别名有空格则需要使用''括起来。        \n",
    "**SELECT CONCAT_WS(' ',firstName,lastName) AS 'Full Name' FROM employees LIMIT 10;**"
   ]
  },
  {
   "cell_type": "markdown",
   "metadata": {},
   "source": [
    "可以使用ORDER BY, GROUP BY和HAVING子句中的列别名来引用该列。查询使用ORDER BY子句中的别名按字母顺序排列员工的名字。    \n",
    "SELECT CONCAT_WS(' ',firstName,lastName) AS 'Full Name' FROM employees ORDER BY 'Full Name' LIMIT 10;"
   ]
  }
 ],
 "metadata": {
  "kernelspec": {
   "display_name": "Python 3",
   "language": "python",
   "name": "python3"
  },
  "language_info": {
   "codemirror_mode": {
    "name": "ipython",
    "version": 3
   },
   "file_extension": ".py",
   "mimetype": "text/x-python",
   "name": "python",
   "nbconvert_exporter": "python",
   "pygments_lexer": "ipython3",
   "version": "3.6.1"
  }
 },
 "nbformat": 4,
 "nbformat_minor": 2
}
