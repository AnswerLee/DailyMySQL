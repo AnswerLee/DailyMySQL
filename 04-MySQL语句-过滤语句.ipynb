{
 "cells": [
  {
   "cell_type": "markdown",
   "metadata": {},
   "source": [
    "**关键字、运算符用大写，其他用小写**"
   ]
  },
  {
   "cell_type": "markdown",
   "metadata": {},
   "source": [
    "使用示例数据库(answer)中的employees表中的数据。表结构如下所示：![employees-columns](./images/employees-columns.png)"
   ]
  },
  {
   "cell_type": "markdown",
   "metadata": {},
   "source": [
    "只获取employees表中所有销售代表的信息。即使WHERE子句出现在语句的末尾，但MySQL会首先使用WHERE子句中的表达式来选择匹配的行。   \n",
    "**SELECT * FROM employees WHERE jobTitle='Sales Rep';**"
   ]
  },
  {
   "cell_type": "markdown",
   "metadata": {},
   "source": [
    "可以像上面的查询一样形成一个简单的条件，或者是将多个表达式与逻辑运算符(如AND，OR等)组合在一起的一个非常复杂的例子。例如，要在办公室代码(officeCode)等于1中查找所有销售代表.   \n",
    "**SELECT * FROM employees WHERE jobTitle='Sales Rep' AND officeCode='1';**"
   ]
  },
  {
   "cell_type": "markdown",
   "metadata": {},
   "source": [
    "下表列出了可用于在WHERE子句中形成过滤表达式的比较运算符。![compare-operators](./images/compare-operators.png)"
   ]
  },
  {
   "cell_type": "markdown",
   "metadata": {},
   "source": [
    "**AND子语句**"
   ]
  },
  {
   "cell_type": "markdown",
   "metadata": {},
   "source": [
    "AND运算符组合true，false和null时的结果。![and-operator](./images/and-operator.png)"
   ]
  },
  {
   "cell_type": "markdown",
   "metadata": {},
   "source": [
    "工号大于1000小于1200的所有雇员信息。   \n",
    "**SELECT * FROM employees WHERE employeeNumber > 1000 AND employeeNumber < 1200;**"
   ]
  },
  {
   "cell_type": "markdown",
   "metadata": {},
   "source": [
    "办公室代码(officeCode)不等于1中查找所有销售代表。   \n",
    "**SELECT * FROM employees WHERE officeCode <> '1' AND jobTitle='Sales Rep';**"
   ]
  },
  {
   "cell_type": "markdown",
   "metadata": {},
   "source": [
    "**OR运算符**"
   ]
  },
  {
   "cell_type": "markdown",
   "metadata": {},
   "source": [
    "OR运算符组合了两个或两个以上布尔表达式。当任一条件为真时，返回true。![or-operator](./images/or-operator.png)"
   ]
  },
  {
   "cell_type": "markdown",
   "metadata": {},
   "source": [
    "MySQL使用OR运算符进行短路评估(求值计算)。 换句话说，当MySQL可以确定结果时，MySQL会停止评估(求值计算)语句的其余部分。   \n",
    "**SELECT 1 = 1 OR 1 / 0;**"
   ]
  },
  {
   "cell_type": "markdown",
   "metadata": {},
   "source": [
    "当您在语句中使用多个逻辑运算符时，MySQL会在AND运算符之后再对OR运算符进行求值。   \n",
    "**SELECT true OR false AND false;**结果为true   \n",
    "**SELECT (true OR false) AND false;**结果为false   "
   ]
  },
  {
   "cell_type": "markdown",
   "metadata": {},
   "source": [
    "获得位于美国(USA)或者法国(France)，并且信用额度大于100000的客户。 \n",
    "**SELECT customerNumber,country,creditLimit FROM customers WHERE (country='USA' OR country='France') AND creditLimit > 100000;**   \n",
    "获得位于法国(France)的客户或者位于美国(USA)且信用额度大于100000的客户。   \n",
    "**SELECT customerNumber,country,creditLimit FROM customers WHERE country='France' OR country = 'USA' AND creditLimit > 100000;**"
   ]
  },
  {
   "cell_type": "markdown",
   "metadata": {},
   "source": [
    "工号大于1300或者小于1100的所有雇员信息。   \n",
    "**SELECT * FROM employees WHERE employeeNumber > 1300 OR employeeNumber < 1100;**"
   ]
  },
  {
   "cell_type": "markdown",
   "metadata": {},
   "source": [
    "还有一些有用的运算符可以在WHERE子句中使用来形成复杂的条件，例如：\n",
    "- BETWEEN选择在给定范围值内的值。\n",
    "- LIKE匹配基于模式匹配的值。\n",
    "- IN指定值是否匹配列表中的任何值。\n",
    "- IS NULL检查该值是否为NULL。"
   ]
  },
  {
   "cell_type": "markdown",
   "metadata": {},
   "source": [
    "**BETWEEN子语句**"
   ]
  },
  {
   "cell_type": "markdown",
   "metadata": {},
   "source": [
    "工号大于1000小于1200的所有雇员信息。   \n",
    "**SELECT * FROM employees WHERE employeeNumber BETWEEN 1000 AND 1200;**"
   ]
  },
  {
   "cell_type": "markdown",
   "metadata": {},
   "source": [
    "当使用BETWEEN运算符与日期类型值时，要获得最佳结果，应该使用类型转换将列或表达式的类型显式转换为DATE类型。要查询获取所需日期(requiredDate)从2013-01-01到2013-01-31的所有订单。   \n",
    "**SELECT * FROM orders WHERE requiredDate BETWEEN CAST('2014-02-25' AS DATE) AND CAST('2014-06-25' AS DATE);**"
   ]
  },
  {
   "cell_type": "markdown",
   "metadata": {},
   "source": [
    "**LIKE子语句**"
   ]
  },
  {
   "cell_type": "markdown",
   "metadata": {},
   "source": [
    "假设要搜索名字以字符a开头的员工信息，可以在模式末尾使用百分比通配符(％).   \n",
    "**SELECT lastName,firstName,jobTitle FROM employees WHERE firstName LIKE 'a%';**"
   ]
  },
  {
   "cell_type": "markdown",
   "metadata": {},
   "source": [
    "要搜索以on字符结尾的姓氏的员工信息。   \n",
    "**SELECT lastName,firstName,jobTitle FROM employees WHERE lastName LIKE '%on';**"
   ]
  },
  {
   "cell_type": "markdown",
   "metadata": {},
   "source": [
    "要查找firstName字段值中包含on字符串的所有员工，可使用带有%ry%条件。   \n",
    "**SELECT lastName,firstName,jobTitle FROM employees WHERE firstName LIKE '%ry%';**"
   ]
  },
  {
   "cell_type": "markdown",
   "metadata": {},
   "source": [
    "要查找名字以T开头的员工，以m结尾，并且包含例如Tom，Tim之间的任何单个字符，可以使用下划线通配符来构建模式。   \n",
    "**SELECT lastName,firstName,jobTitle FROM employees WHERE firstName LIKE 'T_m';**"
   ]
  },
  {
   "cell_type": "markdown",
   "metadata": {},
   "source": [
    "MySQL允许将NOT运算符与LIKE运算符组合，以找到不匹配特定模式的字符串。要搜索姓氏(lastName)不以字符B开头的员工，则可以使用NOT LIKE作为以下查询。   \n",
    "**SELECT lastName,firstName,jobTitle FROM employees WHERE lastName NOT LIKE 'b%';**"
   ]
  },
  {
   "cell_type": "markdown",
   "metadata": {},
   "source": [
    "**请注意，使用LIKE运算符，该模式不区分大小写，因此，b%和B%模式产生相同的结果。**"
   ]
  },
  {
   "cell_type": "markdown",
   "metadata": {},
   "source": [
    "有时想要匹配的模式包含通配符，例如10%，\\_20等这样的字符串时。在这种情况下，您可以使用ESCAPE子句指定转义字符，以便MySQL将通配符解释为文字字符。如果未明确指定转义字符，则反斜杠字符\\是默认转义字符。"
   ]
  },
  {
   "cell_type": "markdown",
   "metadata": {},
   "source": [
    "查询productCode字段中包含\\_20字符串的值。   \n",
    "**SELECT productCode,productName FROM products WHERE productCode LIKE '%\\_20%';**"
   ]
  },
  {
   "cell_type": "markdown",
   "metadata": {},
   "source": [
    "也可以使用ESCAPE子句指定一个不同的转义字符，例如$。   \n",
    "**SELECT productCode,productName FROM products WHERE productCode LIKE '%&\\_20%' ESCAPE '&';**"
   ]
  },
  {
   "cell_type": "markdown",
   "metadata": {},
   "source": [
    "LIKE操作符强制MySQL扫描整个表以找到匹配的行记录，因此，它不允许数据库引擎使用索引进行快速搜索。因此，当要从具有大量行的表查询数据时，使用LIKE运算符来查询数据的性能会大幅降低。"
   ]
  },
  {
   "cell_type": "markdown",
   "metadata": {},
   "source": [
    "**IN子语句**"
   ]
  },
  {
   "cell_type": "markdown",
   "metadata": {},
   "source": [
    "查询办公室代码等于1和3的员工信息。   \n",
    "**SELECT * FROM employees WHERE officeCode IN ('1','3');**"
   ]
  },
  {
   "cell_type": "markdown",
   "metadata": {},
   "source": [
    "IN运算符通常用于子查询。子查询不提供常量值列表，而是提供值列表。我们来看看两张表：orders和orderDetails表的结构以及它们之间的关系。   ![in-sub-select](./images/in-sub-select.png)"
   ]
  },
  {
   "cell_type": "markdown",
   "metadata": {},
   "source": [
    "如果要查找总金额大于60000的订单，则使用IN运算符查询如下所示。   \n",
    "**SELECT orderNumber,customerNumber,status,shippedDate FROM orders WHERE orderNumber IN (SELECT orderNumber FROM orderdetails GROUP BY orderNumber HAVING SUM(quantityOrdered * priceEach) > 60000);**"
   ]
  },
  {
   "cell_type": "markdown",
   "metadata": {},
   "source": [
    "**LIMIT子语句**"
   ]
  },
  {
   "cell_type": "markdown",
   "metadata": {},
   "source": [
    "在SELECT语句中使用LIMIT子句来约束结果集中的行数。LIMIT子句接受一个或两个参数。两个参数的值必须为零或正整数。   \n",
    "**LIMIT offset,count;**   \n",
    "LIMIT子句参数：   \n",
    "- offset参数指定要返回的第一行的偏移量。第一行的偏移量为0，而不是1。\n",
    "- count指定要返回的最大行数。   \n",
    "LIMIT子句来选择表中的前N行记录。   \n",
    "**LIMIT N;**   "
   ]
  },
  {
   "cell_type": "markdown",
   "metadata": {},
   "source": [
    "MySQL中最棘手的问题之一是：如何获得结果集中的第n个最高值，例如查询第二(或第n)贵的产品是哪个，显然不能使用MAX或MIN这样的函数来查询获得。 但是，我们可以使用MySQL LIMIT来解决这样的问题。    \n",
    "- 首先，按照降序对结果集进行排序。\n",
    "- 第二步，使用LIMIT子句获得第n贵的产品。    \n",
    "**SELECT productName,buyPrice FROM products ORDER BY buyPrice DESC LIMIT 1,1;**"
   ]
  },
  {
   "cell_type": "markdown",
   "metadata": {},
   "source": [
    "获取售价第三高、第四高的产品信息为：LIMIT 2, 1 和 LIMIT 3, 1。"
   ]
  }
 ],
 "metadata": {
  "kernelspec": {
   "display_name": "Python 3",
   "language": "python",
   "name": "python3"
  },
  "language_info": {
   "codemirror_mode": {
    "name": "ipython",
    "version": 3
   },
   "file_extension": ".py",
   "mimetype": "text/x-python",
   "name": "python",
   "nbconvert_exporter": "python",
   "pygments_lexer": "ipython3",
   "version": "3.6.1"
  }
 },
 "nbformat": 4,
 "nbformat_minor": 2
}
