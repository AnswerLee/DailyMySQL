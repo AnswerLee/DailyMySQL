{
 "cells": [
  {
   "cell_type": "markdown",
   "metadata": {},
   "source": [
    "**INTERSECT**"
   ]
  },
  {
   "cell_type": "markdown",
   "metadata": {},
   "source": [
    "INTERSECT 运算符是一个集合运算符，它只返回两个查询或更多查询的交集。INTERSECT 运算符的语法如下：   \n",
    "**(SELECT column_list FROM table_1) INTERSECT (SELECT column_list FROM table_2)**"
   ]
  },
  {
   "cell_type": "markdown",
   "metadata": {},
   "source": [
    "要将INTERSECT运算符用于两个查询，应用以下规则：\n",
    "- 列的顺序和数量必须相同。\n",
    "- 相应列的数据类型必须兼容或可转换。    \n",
    "\n",
    "请注意，SQL标准有三个集合运算符，包括UNION，INTERSECT和MINUS"
   ]
  },
  {
   "cell_type": "markdown",
   "metadata": {},
   "source": [
    "**MySQL INTERSECT模拟**"
   ]
  },
  {
   "cell_type": "markdown",
   "metadata": {},
   "source": [
    "MySQL不支持INTERSECT操作符，但是我们可以模拟INTERSECT操作符。"
   ]
  },
  {
   "cell_type": "markdown",
   "metadata": {},
   "source": [
    "使用DISTINCT运算符和INNER JOIN子句来模拟：    \n",
    "\n",
    "**SELECT DISTINCT id FROM table_1 INNER JOIN table_2 USING(id);**    \n",
    "\n",
    "INNER JOIN子句从左表和右表返回所有符合条件的行记录。   \n",
    "DISTINCT运算符删除重复行。"
   ]
  },
  {
   "cell_type": "markdown",
   "metadata": {},
   "source": [
    "使用IN运算符和子查询来模拟：   \n",
    "\n",
    "**SELECT id FROM table_1 WHERE id IN (SELECT id FROM table_2);**   \n",
    "\n",
    "子查询返回第一个结果集。   \n",
    "外部查询使用IN运算符仅选择第一个结果集中的值。"
   ]
  },
  {
   "cell_type": "markdown",
   "metadata": {},
   "source": [
    "**UNION 操作符**"
   ]
  },
  {
   "cell_type": "markdown",
   "metadata": {},
   "source": [
    "MySQL UNION 操作符用于连接两个以上的 SELECT 语句的结果组合到一个结果集合中。多个 SELECT 语句会删除重复的数据。UNION 操作符语法格式：   \n",
    "**SELECT column_list FROM table_1 [WHERE conditions] UNION [ALL | DISTINCT] SELECT column_list FROM table_2 [WHERE conditions];**   \n",
    "\n",
    "DISTINCT可选，删除结果中重复的数据，默认情况下UNION操作符已经删除了重复数据，所以DISTINCT修饰符对结果没啥影响。   \n",
    "ALL 可选，返回所有结果集，包含重复数据。"
   ]
  },
  {
   "cell_type": "markdown",
   "metadata": {},
   "source": [
    "建立示例数据库：   \n",
    "**CREATE TABLE IF NOT EXISTS websites(id INT(11) NOT NULL AUTO_INCREMENT,name VARCHAR(25) DEFAULT NULL,url VARCHAR(45) DEFAULT NULL,alexa INT(11) DEFAULT NULL,country VARCHAR(10) DEFAULT NULL,PRIMARY KEY (id))ENGINE=InnoDB DEFAULT CHARSET=utf8;**"
   ]
  },
  {
   "cell_type": "markdown",
   "metadata": {},
   "source": [
    "**CREATE TABLE IF NOT EXISTS apps(id INT(11) NOT NULL AUTO_INCREMENT, app_name VARCHAR(20) NOT NULL, url VARCHAR(45) DEFAULT NULL, country VARCHAR(10) DEFAULT NULL,PRIMARY KEY (id))ENGINE=InnoDB DEFAULT CHARSET=utf8;**"
   ]
  },
  {
   "cell_type": "markdown",
   "metadata": {},
   "source": [
    "插入数据：   \n",
    "INSERT INTO websites(name,url,alexa,country) VALUES ((`Google`,`https://www.google.com/`,1,`UA`),('淘宝','https://www.taobao.com/',13,'CN'),('微博','https://www.weibo.com',20,'CN'),('Facebook','https://www.facebook.com/',3,'USA'),('Stackoverflow','https://www.stackoverflow.com/',0,'IND'));"
   ]
  }
 ],
 "metadata": {
  "kernelspec": {
   "display_name": "Python 3",
   "language": "python",
   "name": "python3"
  },
  "language_info": {
   "codemirror_mode": {
    "name": "ipython",
    "version": 3
   },
   "file_extension": ".py",
   "mimetype": "text/x-python",
   "name": "python",
   "nbconvert_exporter": "python",
   "pygments_lexer": "ipython3",
   "version": "3.6.1"
  }
 },
 "nbformat": 4,
 "nbformat_minor": 2
}
