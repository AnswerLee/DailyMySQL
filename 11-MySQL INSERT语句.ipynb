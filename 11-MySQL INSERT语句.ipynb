{
 "cells": [
  {
   "cell_type": "markdown",
   "metadata": {},
   "source": [
    "**INSERT 语句**"
   ]
  },
  {
   "cell_type": "markdown",
   "metadata": {},
   "source": [
    "INSERT语句可以将一行或者多行数据插入到表中。INSERT语句语法：   \n",
    "**INSERT INTO table(column1,column2,...) VALUES(value1,value2,...)**   \n",
    "首先，在INSERT INTO子句之后，在括号内指定表名和逗号分隔列的列表。\n",
    "然后，将括号内的相应列的逗号分隔值放在VALUES关键字之后。"
   ]
  },
  {
   "cell_type": "markdown",
   "metadata": {},
   "source": [
    "创建tasks的新表来练习   \n",
    "**CREATE TABLE IF NOT EXISTS tasks(task_id INT(11) AUTO_INCREMENT NOT NULL,subject VARCHAR(45) DEFAULT NULL,start_date DATE DEFAULT NULL,end_date DATE DEFAULT NULL,description VARCHAR(200) DEFAULT NULL,PRIMARY KEY(task_id))ENGINE=InnoDB DEFAULT CHARSET=utf8;**"
   ]
  },
  {
   "cell_type": "markdown",
   "metadata": {},
   "source": [
    "插入一条记录   \n",
    "**INSERT INTO tasks(subject,start_date,end_date,description) VALUES('Learn MySQL INSERT','2017-07-21','2017-07-22','Start learning..');**"
   ]
  },
  {
   "cell_type": "markdown",
   "metadata": {},
   "source": [
    "插入多行记录   \n",
    "**INSERT INTO tasks(subject,start_date,end_date,description) VALUES('task 1','2017-07-21','2017-07-22','Description 1'),('task 2','2017-07-21','2017-07-22','Description 2'),('task 3','2017-07-21','2017-07-22','Description 3');**"
   ]
  },
  {
   "cell_type": "markdown",
   "metadata": {},
   "source": [
    "如果为表中所有列指定相应列的值，则可以省略掉column_list。"
   ]
  },
  {
   "cell_type": "markdown",
   "metadata": {},
   "source": [
    "**具有SELECT子句的MySQL INSERT**"
   ]
  },
  {
   "cell_type": "markdown",
   "metadata": {},
   "source": [
    "在MySQL中，可以使用SELECT语句返回的列和值来填充INSERT语句的值。 此功能非常方便，因为您可以使用INSERT和SELECT子句完全或部分复制表，如下所示：   \n",
    "**INSERT INTO table_1 SELECT c1,c2 FROM table_2;**"
   ]
  },
  {
   "cell_type": "markdown",
   "metadata": {},
   "source": [
    "复制tasks表的结构，创建一个名为tasks_bak的新表   \n",
    "**CREATE TABLE tasks_bak LIKE tasks;**"
   ]
  },
  {
   "cell_type": "markdown",
   "metadata": {},
   "source": [
    "使用以下INSERT语句将tasks表中的数据插入tasks_bak表：   \n",
    "**INSERT INTO tasks_bak SELECT * FROM tasks;**"
   ]
  },
  {
   "cell_type": "markdown",
   "metadata": {},
   "source": [
    "**MySQL INSERT与ON DUPLICATE KEY UPDATE**"
   ]
  },
  {
   "cell_type": "markdown",
   "metadata": {},
   "source": [
    "如果新行违反主键(PRIMARY KEY)或UNIQUE约束，MySQL会发生错误。例如，如果执行以下语句：   \n",
    "**INSERT INTO tasks(task_id,subject,start_date,end_date,description) VALUES (4,'Test ON DUPLICATE KEY UPDATE','2017-01-01','2017-01-01','Next Priority');**   \n",
    "会报以下错误：   \n",
    "Error Code: 1062. Duplicate entry '4' for key 'PRIMARY'   \n",
    "因为表中的主键task_id列已经有一个值为 4 的行了，所以该语句违反了PRIMARY KEY约束。"
   ]
  },
  {
   "cell_type": "markdown",
   "metadata": {},
   "source": [
    "如果在INSERT语句中指定ON DUPLICATE KEY UPDATE选项，MySQL将插入新行或使用新值更新原行记录。   \n",
    "例如，以下语句使用新的task_id和subject来更新task_id为4的行。   \n",
    "**INSERT INTO tasks(task_id,subject,start_date,end_date,description) VALUES (4,'Test ON DUPLICATE KEY UPDATE','2017-01-01','2017-01-02','Next Priority') ON DUPLICATE KEY UPDATE task_id = task_id + 1,subject = 'Test ON DUPLICATE KEY UPDATE';**   \n",
    "结束后会输出信息   \n",
    "2 rows affected   "
   ]
  },
  {
   "cell_type": "markdown",
   "metadata": {},
   "source": [
    "我们来看看tasks表中的数据：   \n",
    "**SELECT * FROM tasks;**   \n",
    "![mysql-insert1.png](./images/mysql-insert1.png)"
   ]
  },
  {
   "cell_type": "markdown",
   "metadata": {},
   "source": [
    "新行没有被插入，但是更新了task_id值为4的行。上面的INSERT ON DUPLICATE KEY UPDATE语句等效于以下UPDATE语句：   \n",
    "**UPDATE tasks SET task_id = task_id + 1,subject = 'Test ON DUPLICATE KEY UPDATE' WHERE task_id = 4;**"
   ]
  }
 ],
 "metadata": {
  "kernelspec": {
   "display_name": "Python 3",
   "language": "python",
   "name": "python3"
  },
  "language_info": {
   "codemirror_mode": {
    "name": "ipython",
    "version": 3
   },
   "file_extension": ".py",
   "mimetype": "text/x-python",
   "name": "python",
   "nbconvert_exporter": "python",
   "pygments_lexer": "ipython3",
   "version": "3.6.1"
  }
 },
 "nbformat": 4,
 "nbformat_minor": 2
}
