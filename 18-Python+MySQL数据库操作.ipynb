{
 "cells": [
  {
   "cell_type": "code",
   "execution_count": 1,
   "metadata": {
    "collapsed": true
   },
   "outputs": [],
   "source": [
    "import pymysql"
   ]
  },
  {
   "cell_type": "code",
   "execution_count": 5,
   "metadata": {
    "collapsed": true
   },
   "outputs": [],
   "source": [
    "db = pymysql.connect('localhost','root','new_pass','answer')"
   ]
  },
  {
   "cell_type": "code",
   "execution_count": 6,
   "metadata": {
    "collapsed": true
   },
   "outputs": [],
   "source": [
    "cursor = db.cursor()"
   ]
  },
  {
   "cell_type": "code",
   "execution_count": 8,
   "metadata": {},
   "outputs": [
    {
     "data": {
      "text/plain": [
       "1"
      ]
     },
     "execution_count": 8,
     "metadata": {},
     "output_type": "execute_result"
    }
   ],
   "source": [
    "cursor.execute(\"SELECT VERSION()\")"
   ]
  },
  {
   "cell_type": "code",
   "execution_count": 9,
   "metadata": {},
   "outputs": [
    {
     "name": "stdout",
     "output_type": "stream",
     "text": [
      "Database version: 5.7.20 \n"
     ]
    }
   ],
   "source": [
    "data = cursor.fetchone()\n",
    "print(\"Database version: %s \" % data)"
   ]
  },
  {
   "cell_type": "code",
   "execution_count": 10,
   "metadata": {},
   "outputs": [
    {
     "data": {
      "text/plain": [
       "2"
      ]
     },
     "execution_count": 10,
     "metadata": {},
     "output_type": "execute_result"
    }
   ],
   "source": [
    "sql_1 = \"SELECT * FROM employees LIMIT 2\"\n",
    "cursor.execute(sql_1)"
   ]
  },
  {
   "cell_type": "code",
   "execution_count": 11,
   "metadata": {
    "collapsed": true
   },
   "outputs": [],
   "source": [
    "db.close()"
   ]
  },
  {
   "cell_type": "code",
   "execution_count": 13,
   "metadata": {
    "collapsed": true
   },
   "outputs": [],
   "source": [
    "db = pymysql.connect('localhost','root','new_pass','testdb')"
   ]
  },
  {
   "cell_type": "code",
   "execution_count": 14,
   "metadata": {
    "collapsed": true
   },
   "outputs": [],
   "source": [
    "cursor = db.cursor()"
   ]
  },
  {
   "cell_type": "code",
   "execution_count": 16,
   "metadata": {},
   "outputs": [
    {
     "name": "stdout",
     "output_type": "stream",
     "text": [
      "(('products',), ('sales',), ('stores',))\n"
     ]
    }
   ],
   "source": [
    "show_tables = \"SHOW tables\"\n",
    "cursor.execute(show_tables)\n",
    "data = cursor.fetchall()\n",
    "print(data)"
   ]
  },
  {
   "cell_type": "code",
   "execution_count": 18,
   "metadata": {},
   "outputs": [
    {
     "data": {
      "text/plain": [
       "(('id', 'int(11)', 'NO', 'PRI', None, 'auto_increment'),\n",
       " ('product_name', 'varchar(100)', 'YES', '', None, ''),\n",
       " ('price', 'decimal(13,2)', 'YES', '', None, ''))"
      ]
     },
     "execution_count": 18,
     "metadata": {},
     "output_type": "execute_result"
    }
   ],
   "source": [
    "desc_products = \"DESC products\"\n",
    "cursor.execute(desc_products)\n",
    "data = cursor.fetchall()\n",
    "print(data)"
   ]
  },
  {
   "cell_type": "code",
   "execution_count": 19,
   "metadata": {},
   "outputs": [
    {
     "name": "stdout",
     "output_type": "stream",
     "text": [
      "((Decimal('1299.00'),),)\n"
     ]
    }
   ],
   "source": [
    "max_price = \"SELECT MAX(price) FROM products\"\n",
    "cursor.execute(max_price)\n",
    "data = cursor.fetchall()\n",
    "print(data)"
   ]
  },
  {
   "cell_type": "code",
   "execution_count": 23,
   "metadata": {},
   "outputs": [
    {
     "name": "stdout",
     "output_type": "stream",
     "text": [
      "((Decimal('865.666667'),),)\n"
     ]
    }
   ],
   "source": [
    "avg_price = \"SELECT AVG(price) FROM products\"\n",
    "cursor.execute(avg_price)\n",
    "data = cursor.fetchall()\n",
    "print(data)"
   ]
  },
  {
   "cell_type": "code",
   "execution_count": 28,
   "metadata": {},
   "outputs": [
    {
     "data": {
      "text/plain": [
       "((Decimal('865.666667'),),)"
      ]
     },
     "execution_count": 28,
     "metadata": {},
     "output_type": "execute_result"
    }
   ],
   "source": [
    "def func_query(cursor,sql_statement):\n",
    "    cursor.execute(sql_statement)\n",
    "    data = cursor.fetchall()\n",
    "    return data\n",
    "func_query(cursor,min_price)"
   ]
  },
  {
   "cell_type": "code",
   "execution_count": 25,
   "metadata": {},
   "outputs": [
    {
     "name": "stderr",
     "output_type": "stream",
     "text": [
      "D:\\Continuum\\Anaconda3\\lib\\site-packages\\pymysql\\cursors.py:170: Warning: (1051, \"Unknown table 'testdb.employee'\")\n",
      "  result = self._query(query)\n"
     ]
    },
    {
     "data": {
      "text/plain": [
       "0"
      ]
     },
     "execution_count": 25,
     "metadata": {},
     "output_type": "execute_result"
    }
   ],
   "source": [
    "drop_if_exists = \"DROP TABLE IF EXISTS `employee`\"\n",
    "create_table_employee = '''\n",
    "CREATE TABLE `employee` (`id` INT(10) NOT NULL AUTO_INCREMENT,\n",
    "`first_name` CHAR(20) NOT NULL, `last_name` CHAR(20) DEFAULT NULL,\n",
    "`age` INT(11) DEFAULT NULL, `sex` CHAR(1) DEFAULT NULL,\n",
    "`income` float DEFAULT NULL, PRIMARY KEY (`id`)) \n",
    "ENGINE=InnoDB DEFAULT CHARSET=utf8;\n",
    "'''\n",
    "cursor.execute(drop_if_exists)"
   ]
  },
  {
   "cell_type": "code",
   "execution_count": 26,
   "metadata": {},
   "outputs": [
    {
     "data": {
      "text/plain": [
       "0"
      ]
     },
     "execution_count": 26,
     "metadata": {},
     "output_type": "execute_result"
    }
   ],
   "source": [
    "cursor.execute(create_table_employee)"
   ]
  },
  {
   "cell_type": "code",
   "execution_count": 30,
   "metadata": {},
   "outputs": [
    {
     "data": {
      "text/plain": [
       "(('employee',), ('products',), ('sales',), ('stores',))"
      ]
     },
     "execution_count": 30,
     "metadata": {},
     "output_type": "execute_result"
    }
   ],
   "source": [
    "func_query(cursor,\"SHOW TABLES;\")"
   ]
  },
  {
   "cell_type": "code",
   "execution_count": 31,
   "metadata": {},
   "outputs": [
    {
     "data": {
      "text/plain": [
       "(('id', 'int(10)', 'NO', 'PRI', None, 'auto_increment'),\n",
       " ('first_name', 'char(20)', 'NO', '', None, ''),\n",
       " ('last_name', 'char(20)', 'YES', '', None, ''),\n",
       " ('age', 'int(11)', 'YES', '', None, ''),\n",
       " ('sex', 'char(1)', 'YES', '', None, ''),\n",
       " ('income', 'float', 'YES', '', None, ''))"
      ]
     },
     "execution_count": 31,
     "metadata": {},
     "output_type": "execute_result"
    }
   ],
   "source": [
    "func_query(cursor,\"DESC employee;\")"
   ]
  },
  {
   "cell_type": "code",
   "execution_count": 39,
   "metadata": {},
   "outputs": [
    {
     "data": {
      "text/plain": [
       "1"
      ]
     },
     "execution_count": 39,
     "metadata": {},
     "output_type": "execute_result"
    }
   ],
   "source": [
    "sql_insert = '''\n",
    "INSERT INTO employee(\n",
    "first_name,last_name,age,sex,\n",
    "income) VALUES ('XiuYue','Wang',28,\n",
    "'M',20000.00)\n",
    "'''\n",
    "# 大坑，执行INSERT 语句后，未执行commit\n",
    "# 数据表中插入操作，并未真正提交，后面查询不出来。\n",
    "cursor.execute(sql_insert)"
   ]
  },
  {
   "cell_type": "code",
   "execution_count": 40,
   "metadata": {},
   "outputs": [
    {
     "data": {
      "text/plain": [
       "((1, 'XiuYue', 'Wang', 28, 'M', 20000.0),)"
      ]
     },
     "execution_count": 40,
     "metadata": {},
     "output_type": "execute_result"
    }
   ],
   "source": [
    "func_query(cursor,\"SELECT * FROM employee WHERE first_name='XiuYue'\")"
   ]
  },
  {
   "cell_type": "code",
   "execution_count": 43,
   "metadata": {
    "collapsed": true
   },
   "outputs": [],
   "source": [
    "sql_insert_1 = '''\n",
    "INSERT INTO employee(first_name,last_name,age,\n",
    "sex,income) VALUES ('WenSheng','Xu',27,'M',15000.00)\n",
    "'''\n",
    "\n",
    "try:\n",
    "    cursor.execute(sql_insert_1)\n",
    "    db.commit()\n",
    "except:\n",
    "    db.rollback()"
   ]
  },
  {
   "cell_type": "code",
   "execution_count": 44,
   "metadata": {},
   "outputs": [
    {
     "data": {
      "text/plain": [
       "((2, 'WenSheng', 'Xu', 27, 'M', 15000.0),)"
      ]
     },
     "execution_count": 44,
     "metadata": {},
     "output_type": "execute_result"
    }
   ],
   "source": [
    "func_query(cursor,\n",
    "          \"SELECT * FROM employee WHERE first_name='WenSheng'\")"
   ]
  },
  {
   "cell_type": "markdown",
   "metadata": {},
   "source": [
    "**动态创建SQL查询**"
   ]
  },
  {
   "cell_type": "code",
   "execution_count": 50,
   "metadata": {},
   "outputs": [],
   "source": [
    "sql_insert_paras = \"INSERT INTO employee(first_name,\\\n",
    "last_name,age,sex,income) \\\n",
    "VALUES ('%s','%s','%d','%c','%f')\" % ('Tao','Li',26,'M',18000.00)"
   ]
  },
  {
   "cell_type": "code",
   "execution_count": 51,
   "metadata": {},
   "outputs": [
    {
     "name": "stdout",
     "output_type": "stream",
     "text": [
      "insert successful\n"
     ]
    }
   ],
   "source": [
    "try:\n",
    "    cursor.execute(sql_insert_paras)\n",
    "    db.commit()\n",
    "    print(\"insert successful\")\n",
    "except:\n",
    "    db.rollback()"
   ]
  },
  {
   "cell_type": "code",
   "execution_count": 52,
   "metadata": {},
   "outputs": [
    {
     "data": {
      "text/plain": [
       "((3, 'Tao', 'Li', 26, 'M', 18000.0),)"
      ]
     },
     "execution_count": 52,
     "metadata": {},
     "output_type": "execute_result"
    }
   ],
   "source": [
    "func_query(cursor,\n",
    "          \"SELECT * FROM employee WHERE first_name='Tao'\")"
   ]
  },
  {
   "cell_type": "code",
   "execution_count": 53,
   "metadata": {},
   "outputs": [
    {
     "name": "stdout",
     "output_type": "stream",
     "text": [
      "insert successful\n"
     ]
    }
   ],
   "source": [
    "first_name = 'HanLiang'\n",
    "last_name = 'Shen'\n",
    "age = 26\n",
    "sex = 'M'\n",
    "income = 27000.00\n",
    "sql_insert_paras = \"INSERT INTO employee(first_name,\\\n",
    "last_name,age,sex,income) \\\n",
    "VALUES ('%s','%s','%d','%c','%f')\" \n",
    "try:\n",
    "    cursor.execute(sql_insert_paras % (first_name,last_name,age,sex,income))\n",
    "    db.commit()\n",
    "    print('insert successful')\n",
    "except:\n",
    "    db.rollback()"
   ]
  },
  {
   "cell_type": "code",
   "execution_count": 54,
   "metadata": {},
   "outputs": [
    {
     "data": {
      "text/plain": [
       "((2, 'WenSheng', 'Xu', 27, 'M', 15000.0),\n",
       " (3, 'Tao', 'Li', 26, 'M', 18000.0),\n",
       " (4, 'HanLiang', 'Shen', 26, 'M', 27000.0))"
      ]
     },
     "execution_count": 54,
     "metadata": {},
     "output_type": "execute_result"
    }
   ],
   "source": [
    "func_query(cursor,\"SELECT * FROM employee\")"
   ]
  },
  {
   "cell_type": "code",
   "execution_count": 55,
   "metadata": {},
   "outputs": [
    {
     "data": {
      "text/plain": [
       "((2, 'WenSheng', 'Xu', 27, 'M', 15000.0),\n",
       " (3, 'Tao', 'Li', 26, 'M', 18000.0),\n",
       " (4, 'HanLiang', 'Shen', 26, 'M', 27000.0))"
      ]
     },
     "execution_count": 55,
     "metadata": {},
     "output_type": "execute_result"
    }
   ],
   "source": [
    "func_query(cursor,\"SELECT * FROM employee\")"
   ]
  },
  {
   "cell_type": "code",
   "execution_count": 57,
   "metadata": {
    "collapsed": true
   },
   "outputs": [],
   "source": [
    "db.close()"
   ]
  },
  {
   "cell_type": "markdown",
   "metadata": {},
   "source": [
    "**读取操作**"
   ]
  },
  {
   "cell_type": "markdown",
   "metadata": {},
   "source": [
    "任何数据库上的读操作表示要从数据库中读取获取一些有用的信息。\n",
    "\n",
    "在建立数据库连接后，就可以对此数据库进行查询了。 可以使用fetchone()方法获取单条记录或fetchall()方法从数据库表中获取多个值。\n",
    "\n",
    "- fetchone() - 它获取查询结果集的下一行。 结果集是当使用游标对象来查询表时返回的对象。\n",
    "\n",
    "\n",
    "- fetchall() - 它获取结果集中的所有行。 如果已经从结果集中提取了一些行，则从结果集中检索剩余的行。\n",
    "\n",
    "\n",
    "- rowcount - 这是一个只读属性，并返回受execute()方法影响的行数。\n",
    "\n",
    "\n",
    "示例\n",
    "\n",
    "以下过程查询EMPLOYEE表中所有记录的工资超过1000员工记录信息\n"
   ]
  },
  {
   "cell_type": "code",
   "execution_count": 58,
   "metadata": {
    "collapsed": true
   },
   "outputs": [],
   "source": [
    "db = pymysql.connect('localhost','root','new_pass','answer')"
   ]
  },
  {
   "cell_type": "code",
   "execution_count": 59,
   "metadata": {
    "collapsed": true
   },
   "outputs": [],
   "source": [
    "cursor = db.cursor()"
   ]
  },
  {
   "cell_type": "code",
   "execution_count": 60,
   "metadata": {},
   "outputs": [
    {
     "data": {
      "text/plain": [
       "(('customers',),\n",
       " ('employees',),\n",
       " ('items',),\n",
       " ('offices',),\n",
       " ('orderdetails',),\n",
       " ('orders',),\n",
       " ('payments',),\n",
       " ('productlines',),\n",
       " ('products',),\n",
       " ('tokens',))"
      ]
     },
     "execution_count": 60,
     "metadata": {},
     "output_type": "execute_result"
    }
   ],
   "source": [
    "func_query(cursor,'SHOW tables;')"
   ]
  },
  {
   "cell_type": "code",
   "execution_count": 61,
   "metadata": {},
   "outputs": [
    {
     "data": {
      "text/plain": [
       "(('employeeNumber', 'int(11)', 'NO', 'PRI', None, ''),\n",
       " ('lastName', 'varchar(50)', 'NO', '', None, ''),\n",
       " ('firstName', 'varchar(50)', 'NO', '', None, ''),\n",
       " ('extension', 'varchar(10)', 'NO', '', None, ''),\n",
       " ('email', 'varchar(100)', 'NO', '', None, ''),\n",
       " ('officeCode', 'varchar(10)', 'NO', 'MUL', None, ''),\n",
       " ('reportsTo', 'int(11)', 'YES', 'MUL', None, ''),\n",
       " ('jobTitle', 'varchar(50)', 'NO', '', None, ''))"
      ]
     },
     "execution_count": 61,
     "metadata": {},
     "output_type": "execute_result"
    }
   ],
   "source": [
    "func_query(cursor,\"DESC employees;\")"
   ]
  },
  {
   "cell_type": "code",
   "execution_count": 62,
   "metadata": {},
   "outputs": [
    {
     "data": {
      "text/plain": [
       "(('President',),\n",
       " ('VP Sales',),\n",
       " ('VP Marketing',),\n",
       " ('Sales Manager (APAC)',),\n",
       " ('Sale Manager (EMEA)',),\n",
       " ('Sales Manager (NA)',),\n",
       " ('Sales Rep',))"
      ]
     },
     "execution_count": 62,
     "metadata": {},
     "output_type": "execute_result"
    }
   ],
   "source": [
    "func_query(cursor, \"SELECT DISTINCT jobTitle FROM employees;\")"
   ]
  },
  {
   "cell_type": "code",
   "execution_count": 64,
   "metadata": {},
   "outputs": [
    {
     "data": {
      "text/plain": [
       "(('Mary Patterson',),)"
      ]
     },
     "execution_count": 64,
     "metadata": {},
     "output_type": "execute_result"
    }
   ],
   "source": [
    "sql_query = '''\n",
    "SELECT CONCAT(firstname,' ',lastname) AS `fullname` \n",
    "FROM employees WHERE jobTitle='VP Sales';\n",
    "'''\n",
    "func_query(cursor,sql_query)    "
   ]
  },
  {
   "cell_type": "code",
   "execution_count": 65,
   "metadata": {
    "collapsed": true
   },
   "outputs": [],
   "source": [
    "db.close()"
   ]
  },
  {
   "cell_type": "code",
   "execution_count": null,
   "metadata": {
    "collapsed": true
   },
   "outputs": [],
   "source": [
    "db = pymysql.connect('localhost')"
   ]
  }
 ],
 "metadata": {
  "kernelspec": {
   "display_name": "Python 3",
   "language": "python",
   "name": "python3"
  },
  "language_info": {
   "codemirror_mode": {
    "name": "ipython",
    "version": 3
   },
   "file_extension": ".py",
   "mimetype": "text/x-python",
   "name": "python",
   "nbconvert_exporter": "python",
   "pygments_lexer": "ipython3",
   "version": "3.6.1"
  }
 },
 "nbformat": 4,
 "nbformat_minor": 2
}
