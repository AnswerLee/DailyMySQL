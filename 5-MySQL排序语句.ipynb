{
 "cells": [
  {
   "cell_type": "markdown",
   "metadata": {},
   "source": [
    "**ORDER BY**"
   ]
  },
  {
   "cell_type": "markdown",
   "metadata": {},
   "source": [
    "当使用SELECT语句查询表中的数据时，结果集不按任何顺序进行排序。需要对结果进行排序时，请使用ORDER BY子句。ORDER BY 子句允许：    \n",
    "- 对单列或多个列排序结果集\n",
    "- 按升序或降序对不同列的结果集进行排序"
   ]
  },
  {
   "cell_type": "markdown",
   "metadata": {},
   "source": [
    "将客户信息按照城市名称排序，取出前5条    \n",
    "**SELECT * FROM customers ORDER BY city ASC LIMIT 5;**"
   ]
  },
  {
   "cell_type": "markdown",
   "metadata": {},
   "source": [
    "将客户信息按照国家顺序，城市逆序来排序，取出前10条    \n",
    "**SELECT customerNumber,city,country FROM customers ORDER BY country ASC,city DESC LIMIT 10;**"
   ]
  },
  {
   "cell_type": "markdown",
   "metadata": {},
   "source": [
    "ORDER BY子句允许根据表达式对结果集进行排序。使用orderdetails表来示例。"
   ]
  },
  {
   "cell_type": "markdown",
   "metadata": {},
   "source": [
    "查看orderdetails的表结构，这里DESC的意思是describe，并不是descending的意思。    \n",
    "**DESC orderdetails;**\n",
    "![orderdetails-columns](./images/orderdetails-columns.png)"
   ]
  },
  {
   "cell_type": "markdown",
   "metadata": {},
   "source": [
    "从orderdetails表中选择订单行记录。计算每个订单项的小计，并根据订单编号，订单行号(orderLineNumber)和小计(quantityOrdered\\*priceEach)对结果进行排序。    \n",
    "**SELECT orderNumber,orderLineNumber,quantityOrdered\\*priceEach FROM orderdetails ORDER BY orderNumber,orderLineNumber,quantityOrdered\\*priceEach LIMIT 10;**"
   ]
  },
  {
   "cell_type": "markdown",
   "metadata": {},
   "source": [
    "为了查询结果易于阅读，可以按列别名进行排序。    \n",
    "**SELECT orderNumber,orderLineNumber,quantityOrdered\\*priceEach AS subtotal FROM orderdetails ORDER BY orderNumber,subtotal DESC LIMIT 10;**"
   ]
  },
  {
   "cell_type": "markdown",
   "metadata": {},
   "source": [
    "ORDER BY 自定义排序顺序"
   ]
  },
  {
   "cell_type": "markdown",
   "metadata": {},
   "source": [
    "ORDER BY 子语句允许使用FIELD()函数为列中的值定义自己的自定义排序顺序。使用orders表来示例。        \n",
    "例如，如果基于以下状态的值对订单进行排序：    \n",
    "- In Process\n",
    "- On Hold\n",
    "- Cancelled \n",
    "- Resolved\n",
    "- Disputed\n",
    "- Shipped    \n",
    "\n",
    "可以使用FIELD()函数将这些值映射到数值列表，并使用数字进行排序。![orders-describe](./images/orders-describe.png)"
   ]
  },
  {
   "cell_type": "markdown",
   "metadata": {},
   "source": [
    "**SELECT orderNumber,status FROM orders ORDER BY FIELD(status,'In Process','On Hold','Cancelled','Resolved','Disputed','Shipped') LIMIT 20;**"
   ]
  },
  {
   "cell_type": "markdown",
   "metadata": {
    "collapsed": true
   },
   "source": [
    "ORDER BY子语句与自然语言排序(这个部分回头再练习)"
   ]
  },
  {
   "cell_type": "markdown",
   "metadata": {},
   "source": [
    "假设我们有一个items表，其中包含两列：id和item_no.使用CREATE TABLE 创建items表。    \n",
    "**CREATE TABLE IF NOT EXISTS items (id INT AUTO_INCREMENT PRIMARY KEY,item_no VARCHAR(255) NOT NULL);**"
   ]
  },
  {
   "cell_type": "markdown",
   "metadata": {},
   "source": [
    "我们使用INSERT 语句将一些数据插入到items表中：    \n",
    "**INSERT INTO items(item_no) VALUES ('1'),('1C'),('10Z'),('2A'),('2'),('3C'),('20D');**"
   ]
  },
  {
   "cell_type": "code",
   "execution_count": null,
   "metadata": {
    "collapsed": true
   },
   "outputs": [],
   "source": []
  }
 ],
 "metadata": {
  "kernelspec": {
   "display_name": "Python 3",
   "language": "python",
   "name": "python3"
  },
  "language_info": {
   "codemirror_mode": {
    "name": "ipython",
    "version": 3
   },
   "file_extension": ".py",
   "mimetype": "text/x-python",
   "name": "python",
   "nbconvert_exporter": "python",
   "pygments_lexer": "ipython3",
   "version": "3.6.1"
  }
 },
 "nbformat": 4,
 "nbformat_minor": 2
}
